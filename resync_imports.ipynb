{
 "cells": [
  {
   "cell_type": "code",
   "execution_count": null,
   "id": "f19eec16-7bd5-4b44-b7a3-957ba01bde52",
   "metadata": {},
   "outputs": [],
   "source": [
    "![ ! -d \"$HOME/Interactives\" ] && ln -s /srv/data/shared/Interactives $HOME/python4spectroscopy"
   ]
  },
  {
   "cell_type": "markdown",
   "id": "e54a27da-9739-481a-a80c-edabfd75cc8b",
   "metadata": {},
   "source": [
    "<div class=\"alert alert-danger\">Did the <strong>Interactives</strong> folder show up inside the <strong>python4spectroscopy</strong> folder on the left panel?  If not - do NOT proceed - let me know.</div>"
   ]
  },
  {
   "cell_type": "code",
   "execution_count": null,
   "id": "683a8ab1-90aa-44f7-8d72-0cc6cfb0d639",
   "metadata": {},
   "outputs": [],
   "source": [
    "![ ! -d \"$HOME/dave_decker_spectral_images\" ] && ln -s /srv/data/shared/dave_decker_spectral_images $HOME/python4spectroscopy"
   ]
  },
  {
   "cell_type": "markdown",
   "id": "a2ea814b-4bba-4207-9021-8f7f5df17347",
   "metadata": {},
   "source": [
    "<div class=\"alert alert-danger\">Did the <strong>dave_decker_spectral_images</strong> folder show up inside the <strong>python4spectroscopy</strong> folder on the left panel?  If not - do NOT proceed - let me know.</div>"
   ]
  }
 ],
 "metadata": {
  "kernelspec": {
   "display_name": "Python 3 (ipykernel)",
   "language": "python",
   "name": "python3"
  },
  "language_info": {
   "codemirror_mode": {
    "name": "ipython",
    "version": 3
   },
   "file_extension": ".py",
   "mimetype": "text/x-python",
   "name": "python",
   "nbconvert_exporter": "python",
   "pygments_lexer": "ipython3",
   "version": "3.10.10"
  }
 },
 "nbformat": 4,
 "nbformat_minor": 5
}
