{
 "cells": [
  {
   "cell_type": "code",
   "execution_count": null,
   "id": "15f6dfe4-a496-4b92-8e92-aec862b2deba",
   "metadata": {},
   "outputs": [],
   "source": [
    "import numpy as np\n",
    "import matplotlib.pyplot as plt\n",
    "%matplotlib inline"
   ]
  },
  {
   "cell_type": "code",
   "execution_count": null,
   "id": "1716d2bc-6ae4-4734-a8aa-410f5d2f49e0",
   "metadata": {},
   "outputs": [],
   "source": [
    "x = np.arange(0,20,1)  ## the arrange method simply defines an interval between points for a given range\n",
    "# NOTE THE CALL TO THE sin() FUNCTION WHICJH IS EXPECTING A VALUE IN RADIANS\n",
    "y = np.sin(x)\n",
    "## x and y are arrays!!\n",
    "print(x)\n",
    "print(y)\n",
    "plt.plot(x,y)\n",
    "plt.show()"
   ]
  },
  {
   "cell_type": "code",
   "execution_count": null,
   "id": "4367b17d-3b8e-4b94-bbd4-75cee7d83f98",
   "metadata": {},
   "outputs": [],
   "source": [
    "x = np.linspace(0,20, num=100) ## the linspace method defines the actual number points within the range\n",
    "y = np.sin(x)\n",
    "print(x)\n",
    "print(y)\n",
    "plt.plot(x,y)\n",
    "plt.show()"
   ]
  },
  {
   "cell_type": "code",
   "execution_count": null,
   "id": "75e63ca6-b861-4ddc-a5fa-fa3b0e6dc96b",
   "metadata": {},
   "outputs": [],
   "source": [
    "# CAN YOU WRITE PYTHON CODE TO PLOT EXACTLY 1 CYCLE OF THE SINE CURVE?\n",
    "# YOU WILL NEED THE VALUE OF PI WHICH CAN BE OBTAINED WITH 'np.pi'\n",
    "x =\n",
    "y = \n",
    "plt.title(\"sine curve in radians\")\n",
    "plt.xlabel(\"Radians\")\n",
    "plt.ylabel(\"sin(x)\");\n",
    "plt.plot(x,y)\n",
    "plt.show()"
   ]
  },
  {
   "cell_type": "code",
   "execution_count": null,
   "id": "1b21ce8b",
   "metadata": {},
   "outputs": [],
   "source": [
    "# Here I have written a custom Python function to plot the x-axis in degrees\n",
    "def deg2rad(theta):\n",
    "    return theta * np.pi / 180"
   ]
  },
  {
   "cell_type": "code",
   "execution_count": null,
   "id": "31d9fe2f-34e5-4ad6-a257-5bdc1f44b170",
   "metadata": {},
   "outputs": [],
   "source": [
    "# CAN YOU USE THE FUNCTION ABOVE TO PLOT THE SIN VALUES FROM 0 TO 360 DEGREES \n",
    "x = np.linspace(?????) ## FIX THIS LINE OF CODE\n",
    "y = ??????  ## FIX THIS LINE OF CODE              \n",
    "plt.title(\"sine curve in degrees\")\n",
    "plt.xlabel(\"Degrees\")\n",
    "plt.ylabel(\"sin(x)\");\n",
    "plt.plot(x,y)\n",
    "plt.show()"
   ]
  },
  {
   "cell_type": "code",
   "execution_count": null,
   "id": "6bf4e6ed-5621-4e8a-89bf-fe22f6c518d3",
   "metadata": {},
   "outputs": [],
   "source": [
    "# AN EXAMPLE OF A CIRCLE PLOT USING THE PARAMETRIC EQUATION OF THE CIRCLE\n",
    "\n",
    "def yval(angle):\n",
    "    return np.sin(angle)\n",
    "\n",
    "def xval(angle):\n",
    "    return np.cos(angle)\n",
    "\n",
    "theta = np.linspace(0,2*np.pi, num=1000) ## the linspace method defines the actual number angles within the range\n",
    "\n",
    "plt.title(\"A parametric Circle of XY with a curved line connecting them!\")\n",
    "plt.xlabel(\"xval\")\n",
    "plt.ylabel(\"yval\");\n",
    "plt.gca().set_aspect('equal')\n",
    "plt.plot(xval(theta),yval(theta))\n",
    "plt.show()"
   ]
  },
  {
   "cell_type": "code",
   "execution_count": null,
   "id": "5e434420-c06b-4623-92f1-ce4f532e663e",
   "metadata": {},
   "outputs": [],
   "source": [
    "# AN EXAMPLE OF A CIRCLE PLOT WITH OFFSETS USING THE PARAMETRIC EQUATION OF THE CIRCLE\n",
    "\n",
    "rad = 5\n",
    "u = 3\n",
    "v = -4\n",
    "\n",
    "theta = np.linspace(0,2*np.pi, num=1000) ## the linspace method defines the actual number angles within the range\n",
    "\n",
    "plt.text(2.75,-3.25,\"radius: %1d\" % rad)\n",
    "plt.text(u+0.05,v-0.05,\"center: (%1.1f, %1.1f)\" % (u,v))\n",
    "plt.title(\"An offset Circle with line and dots!\")\n",
    "plt.xlabel(\"xval\")\n",
    "plt.ylabel(\"yval\");\n",
    "plt.gca().set_aspect('equal')\n",
    "\n",
    "plt.plot(u+xval(theta),v+yval(theta))    # plot line\n",
    "plt.scatter(u+xval(theta),v+yval(theta)) # plot dots\n",
    "plt.scatter(u,v,marker='+')  # plot center point # plot center\n",
    "plt.show()"
   ]
  },
  {
   "cell_type": "markdown",
   "id": "b2669bf5-a107-4907-8de5-97f8751f069e",
   "metadata": {},
   "source": [
    "# Can you plot parameterized line plots of an ellipses and orbits in code cells below?\n",
    "![ellipse](ellipse.png)"
   ]
  },
  {
   "cell_type": "code",
   "execution_count": null,
   "id": "4671cac4-6f1c-4423-8c25-e3483ad2accc",
   "metadata": {},
   "outputs": [],
   "source": [
    "##.    PROBLEM #1\n",
    "a = 3 # semi major axis\n",
    "b = 2 # semi minor axis\n",
    "u = 3 # center x coordinate\n",
    "v = 3 # center y coordinate\n",
    "c = (a**2-b**2)**0.5 # semi focal distance\n",
    "e = c/a # eccentricity\n",
    "\n",
    "## WRITE CODE HERE TO DRAW THE ELLIPSE as shown in picture below!!\n"
   ]
  },
  {
   "cell_type": "markdown",
   "id": "1249b233-67a2-489f-91c5-5a6fd52d87f3",
   "metadata": {},
   "source": [
    "![fancyellipse](fancy_ellipse.png)"
   ]
  },
  {
   "cell_type": "code",
   "execution_count": null,
   "id": "096fd4e1-de16-451d-aa2a-5ecaa88b9d5c",
   "metadata": {},
   "outputs": [],
   "source": [
    "##.    PROBLEM #2\n",
    "\n",
    "## WRITE CODE HERE TO DRAW THE ORBIT OF A PLANET SHOWING THE SUN AT ONE FOCUS\n",
    "## SHOW THE PLANET APPROACHING PERIHELION (FORMULA DISCUSSED IN CLASS and BELOW)\n",
    "## PERIHELION = a * (1 - e)\n",
    "## APHELION = a * (1 + e)\n",
    "## YOU WILL A NEED A SECOND PAIR linspace() a plt.scatter() statements to do this\n",
    "## IT SHOULD LOOK LIKE THE PICTURE BELOW !"
   ]
  },
  {
   "cell_type": "markdown",
   "id": "b9142068-6573-485b-99b1-0943f20ce78c",
   "metadata": {},
   "source": [
    "![planetary orbit](planetary_orbit.png)"
   ]
  }
 ],
 "metadata": {
  "kernelspec": {
   "display_name": "Python 3 (ipykernel)",
   "language": "python",
   "name": "python3"
  },
  "language_info": {
   "codemirror_mode": {
    "name": "ipython",
    "version": 3
   },
   "file_extension": ".py",
   "mimetype": "text/x-python",
   "name": "python",
   "nbconvert_exporter": "python",
   "pygments_lexer": "ipython3",
   "version": "3.9.13"
  }
 },
 "nbformat": 4,
 "nbformat_minor": 5
}
