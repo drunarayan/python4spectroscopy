{
 "cells": [
  {
   "cell_type": "markdown",
   "metadata": {
    "id": "3JDakeShaAQH"
   },
   "source": [
    "# Singing Black Hole Activity\n",
    "This coding activity let's us learn how to use Jupyter Notebooks as explore **the singing black hole!**. In 2003 astrophysicists working with NASA’s orbiting Chandra X-ray Observatory detected a pattern of ripples in the X-ray glow of a giant cluster of galaxies in the constellation Perseus.  \n",
    "\n",
    "### Fix markdown syntax below to add inline image 'perseus_constellation.png'\n",
    "\n",
    "![perseusC]()  \n",
    "\n",
    "They are pressure waves — that is to say, sound waves — 30,000 light-years in diameter and radiating outward through the thin, ultrahot gas that suffuses galaxy clusters. \n",
    "\n",
    "### Fix markdown syntax below to add inline image 'perseus_a.png'\n",
    "\n",
    "![perseusA]() \n",
    "\n",
    "They were caused by periodic explosions from a supermassive black hole at the center of the cluster, which is 250 million light-years away and contains thousands of galaxies. The sound waves were acoustically equivalent to a B-flat 57 octaves below middle C, a tone that the black hole has apparently been holding for the last two billion years.  Astronomers \"sonified\" the sound from this black hole by increasing its frequency by a factor of 200 quadrillion to 20 Hz, the low limit of human hearing!  \n"
   ]
  },
  {
   "cell_type": "code",
   "execution_count": null,
   "metadata": {},
   "outputs": [],
   "source": [
    "\n",
    "## USE THE LINK BELOW TO WRITE PYTHON CODE TO INCLUDE AS AN INLINE YOUTUBE VIDEO\n",
    "## https://www.youtube.com/watch?v=ioR5np1fmEc)"
   ]
  },
  {
   "cell_type": "markdown",
   "metadata": {},
   "source": [
    "Use the information provided in this notebook and discussion in the class to multiple create code cells below to calculate the following:\n",
    "\n",
    "1. Find the frequency of the sound emitted by the black hole _hint: it wil be multiple orders of magnitude less than 1!_\n",
    "1. Find the period of the sound emitted by the black hole _hint: it wil be in millions of years!_"
   ]
  },
  {
   "cell_type": "markdown",
   "metadata": {},
   "source": [
    "Study the LaTex syntax to show the equations like you see below in Markdown Cells:"
   ]
  },
  {
   "attachments": {},
   "cell_type": "markdown",
   "metadata": {
    "id": "z72DEuJGVg7F",
    "tags": []
   },
   "source": [
    "## Frequency and Period\n",
    "The frequency of a sound wave is the number of complete cycles in one second. Conversely, the period of a wave is the number of seconds it takes to complete a single cycle.\n",
    "1. We know that the ratio of frequencies is given to be 57 octaves and middle-c is 261.63 Hz. Let's round it up to 262 Hz. <a href=\"https://www.youtube.com/watch?v=uqO1TDa2AeU\" target=\"_blank\">Let's listen to 262 Hz here!</a>\n",
    "\n",
    "1. A single octave lower has the effect of cutting the frequency in one-half or $$=\\frac{middle-c-freq}{2}=262\\times\\frac{1}{2} Hz=131 Hz$$<a href=\"https://www.youtube.com/watch?v=XKmEbz-m-gU\" target=\"_blank\">Let's listen to 131 Hz here!</a>\n",
    "\n",
    "1. Two ocatves lower than middle-c will be one-half times one-half or $$=262\\times\\frac{1}{2}\\times\\frac{1}{2}=262\\times\\frac{1}{2^{2}}Hz=65 Hz$$<a href=\"https://www.youtube.com/watch?v=Pu1Nlu9BUrw\" target=\"_blank\">Let's listen to 65 Hz here!</a>\n",
    "\n",
    "1. ***CAN YOU ADD A LINE HERE WITH LaTeX SYNTAX FOR 3 OCTAVES BELOW MIDDLE_C ALONG WITH A HML TAG REF LINK FOR 32 Hz TONE?*** \n",
    "\n",
    "1. Fifty Seven ocatves lower than middle-c will be ***!!! ADD LaTeX SYNTAX HERE !!!***\n",
    "\n",
    "1. Frequency of Sound wave emitted by Black Hole is ***!!! ADD LaTeX SYNTAX HERE !!!***"
   ]
  },
  {
   "cell_type": "code",
   "execution_count": null,
   "metadata": {
    "tags": []
   },
   "outputs": [],
   "source": [
    "## CALCULATE AND PRINT THE FREQUENCY OF THE SOUND WAVE EMITTED BY THE BLACK HOLE\n",
    "freq = some formula goes here   # THIS IS OBVIOUSLY THE WRONG ANSWER!! CALCULATE THE CORRECT FREQUENCY HERE\n",
    "# NOTE HOW THE PRINT STAEMENT IF FORMATTED TO PRINT IN SCIENTIFIC NOTATION\n"
   ]
  },
  {
   "cell_type": "code",
   "execution_count": null,
   "metadata": {},
   "outputs": [],
   "source": [
    "print(f'The frequency of sound wave emitted by Black Hole is {freq:1.3e} Hz')  "
   ]
  },
  {
   "attachments": {},
   "cell_type": "markdown",
   "metadata": {},
   "source": [
    "The ```f'some text {somevar:someformat} more text'``` are called f-strings in python"
   ]
  },
  {
   "attachments": {},
   "cell_type": "markdown",
   "metadata": {},
   "source": [
    "7. **The period of a sound wave is simply the reciprocal of the frequency.**"
   ]
  },
  {
   "cell_type": "code",
   "execution_count": null,
   "metadata": {},
   "outputs": [],
   "source": [
    "period = some calculation   # THIS IS OBVIOUSLY THE WRONG ANSWER!! CALCULATE THE CORRECT PERIOD HERE\n",
    "print(f'The period of the Black Hole sound wave is {period} seconds') ### FIX THIS TO PRINT IN SCIENTIFIC NOTATION\n",
    "\n",
    "seconds_in_a_year = some value  # THIS IS OBVIOUSLY THE WRONG ANSWER!! CALCULATE THE CORRECT VALUE HERE\n",
    "print(f'The period of sound wave emitted by Black Hole is {period/seconds_in_a_year}') ### FIX THIS TO PRINT IN SCIENTIFIC NOTATION"
   ]
  },
  {
   "attachments": {},
   "cell_type": "markdown",
   "metadata": {},
   "source": [
    "8. **Period of Sound wave emitted by Black Hole is = ?????? Years!**\n",
    "9. ***What is its Wavelength ???***"
   ]
  }
 ],
 "metadata": {
  "anaconda-cloud": {},
  "colab": {
   "collapsed_sections": [],
   "provenance": [],
   "toc_visible": true
  },
  "kernelspec": {
   "display_name": "Python 3 (ipykernel)",
   "language": "python",
   "name": "python3"
  },
  "language_info": {
   "codemirror_mode": {
    "name": "ipython",
    "version": 3
   },
   "file_extension": ".py",
   "mimetype": "text/x-python",
   "name": "python",
   "nbconvert_exporter": "python",
   "pygments_lexer": "ipython3",
   "version": "3.9.13"
  },
  "nteract": {
   "version": "0.28.0"
  }
 },
 "nbformat": 4,
 "nbformat_minor": 4
}
