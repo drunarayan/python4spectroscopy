{
 "cells": [
  {
   "cell_type": "markdown",
   "id": "572ce119-da20-43d4-bda7-2139cdf95939",
   "metadata": {},
   "source": [
    "## Solution for 3_intro_plotting notebook"
   ]
  },
  {
   "cell_type": "code",
   "execution_count": null,
   "id": "15f6dfe4-a496-4b92-8e92-aec862b2deba",
   "metadata": {},
   "outputs": [],
   "source": [
    "import numpy as np\n",
    "import matplotlib.pyplot as plt\n",
    "%matplotlib inline"
   ]
  },
  {
   "cell_type": "code",
   "execution_count": null,
   "id": "1716d2bc-6ae4-4734-a8aa-410f5d2f49e0",
   "metadata": {},
   "outputs": [],
   "source": [
    "x = np.arange(0,20,1)  ## the arrange method simply defines an interval between points for a given range\n",
    "# NOTE THE CALL TO THE sin() FUNCTION WHICJH IS EXPECTING A VALUE IN RADIANS\n",
    "y = np.sin(x)\n",
    "## x and y are arrays!!\n",
    "print(x)\n",
    "print(y)"
   ]
  },
  {
   "cell_type": "code",
   "execution_count": null,
   "id": "176a8c98-4d93-40d2-9d9e-da4eb1aa8d77",
   "metadata": {},
   "outputs": [],
   "source": [
    "plt.plot(x,y)\n",
    "plt.show()"
   ]
  },
  {
   "cell_type": "code",
   "execution_count": null,
   "id": "4367b17d-3b8e-4b94-bbd4-75cee7d83f98",
   "metadata": {},
   "outputs": [],
   "source": [
    "x = np.linspace(0,20, num=100) ## the linspace method defines the actual number points within the range\n",
    "y = np.sin(x)\n",
    "print(x)\n",
    "print(y)"
   ]
  },
  {
   "cell_type": "code",
   "execution_count": null,
   "id": "faf0edc0-a524-403e-a694-658aa0ccca63",
   "metadata": {},
   "outputs": [],
   "source": [
    "plt.plot(x,y)\n",
    "plt.show()"
   ]
  },
  {
   "cell_type": "code",
   "execution_count": null,
   "id": "75e63ca6-b861-4ddc-a5fa-fa3b0e6dc96b",
   "metadata": {},
   "outputs": [],
   "source": [
    "# CAN YOU WRITE PYTHON CODE TO PLOT EXACTLY 1 CYCLE OF THE SINE CURVE?\n",
    "# YOU WILL NEED THE VALUE OF PI WHICH CAN BE OBTAINED WITH 'np.pi'\n",
    "x = np.linspace(0,2*np.pi, num=100) ## the linspace method defines the actual number points within the range\n",
    "y = np.sin(x)\n",
    "#print(x)\n",
    "#print(y)\n",
    "plt.title(\"sine curve in radians\")\n",
    "plt.xlabel(\"Radians\")\n",
    "plt.ylabel(\"sin(x)\");\n",
    "plt.plot(x,y)\n",
    "plt.show()"
   ]
  },
  {
   "cell_type": "code",
   "execution_count": null,
   "id": "31d9fe2f-34e5-4ad6-a257-5bdc1f44b170",
   "metadata": {},
   "outputs": [],
   "source": [
    "# Here you can see how we are using a custom Python function to plot the x-axis in degrees\n",
    "def deg2rad(theta):\n",
    "    return theta * np.pi / 180\n",
    "x = np.linspace(0,360, num=1000) ## the linspace method defines the actual number points within the range\n",
    "y = np.sin(deg2rad(x))\n",
    "plt.plot(x,y)\n",
    "plt.title(\"sine curve in degrees\")\n",
    "plt.xlabel(\"Degrees\")\n",
    "plt.ylabel(\"sin(x)\");\n",
    "plt.show()"
   ]
  },
  {
   "cell_type": "code",
   "execution_count": null,
   "id": "6bf4e6ed-5621-4e8a-89bf-fe22f6c518d3",
   "metadata": {},
   "outputs": [],
   "source": [
    "# AN EXAMPLE OF A CIRCLE PLOT USING THE PARAMETRIC EQUATION OF THE CIRCLE\n",
    "def yval(x):\n",
    "    return np.sin(x)\n",
    "\n",
    "def xval(y):\n",
    "    return np.cos(y)\n",
    "\n",
    "x = np.linspace(0,2*np.pi, num=1000) ## the linspace method defines the actual number points within the range\n",
    "y = np.linspace(0,2*np.pi, num=1000)\n",
    "plt.plot(xval(y),yval(x))\n",
    "plt.title(\"A parametric Circle of XY with a curved line connecting them!\")\n",
    "plt.xlabel(\"xval\")\n",
    "plt.ylabel(\"yval\");\n",
    "plt.gca().set_aspect('equal')\n",
    "plt.show()"
   ]
  },
  {
   "cell_type": "code",
   "execution_count": null,
   "id": "5e434420-c06b-4623-92f1-ce4f532e663e",
   "metadata": {},
   "outputs": [],
   "source": [
    "rad = 5\n",
    "u = 3\n",
    "v = -4\n",
    "\n",
    "def xval(t):\n",
    "    return rad*np.cos(t)\n",
    "\n",
    "def yval(t):\n",
    "    return rad*np.sin(t)\n",
    "\n",
    "t = np.linspace(0,2*np.pi, num=20) ## the linspace method defines the actual number points within the range\n",
    "plt.plot(u+xval(t),v+yval(t))    # plot line\n",
    "plt.scatter(u+xval(t),v+yval(t)) # plot dots\n",
    "plt.scatter(u,v,marker='+')  # plot center point\n",
    "plt.text(u-1,v+2,\"radius: %1d\" % rad)\n",
    "plt.text(u+0.2,v-0.2,\"center: (%1.1f, %1.1f)\" % (u,v))\n",
    "plt.title(\"An offset Circle with line and dots!\")\n",
    "plt.xlabel(\"xval\")\n",
    "plt.ylabel(\"yval\");\n",
    "plt.gca().set_aspect('equal')\n",
    "plt.show()"
   ]
  },
  {
   "cell_type": "markdown",
   "id": "b2669bf5-a107-4907-8de5-97f8751f069e",
   "metadata": {},
   "source": [
    "# Can you plot a parameterized line plots of an allipses and orbits in code cells below?\n",
    "![ellipse](ellipse.png)"
   ]
  },
  {
   "cell_type": "markdown",
   "id": "79dfb9be-2733-4291-83e1-7520609e67bb",
   "metadata": {},
   "source": [
    "![prop](props_elliptical_orbits.png)"
   ]
  },
  {
   "cell_type": "code",
   "execution_count": null,
   "id": "4671cac4-6f1c-4423-8c25-e3483ad2accc",
   "metadata": {},
   "outputs": [],
   "source": [
    "##.    PROBLEM #1\n",
    "a = 3 # semi major axis\n",
    "b = 2 # semi minor axis\n",
    "u = 3 # center x coordinate\n",
    "v = 3 # center y coordinate\n",
    "c = (a**2-b**2)**0.5 # semi focal distance\n",
    "e = c/a # eccentricity\n",
    "\n",
    "## WRITE CODE HERE TO DRAW THE ELLIPSE as shown in picture below!!\n",
    "\n",
    "def xval(t):\n",
    "    return a*np.cos(t)\n",
    "\n",
    "def yval(t):\n",
    "    return b*np.sin(t)\n",
    "\n",
    "t = np.linspace(0,2*np.pi, num=100) ## the linspace method defines the actual number points within the range\n",
    "plt.plot(u+xval(t),v+yval(t))    # plot line\n",
    "plt.scatter(u,v,marker='+')  # plot center point\n",
    "plt.scatter(u-c,v,marker='o')  # plot left focus\n",
    "plt.scatter(u+c,v,marker='o')  # plot right focus\n",
    "plt.text(u-1,v+1,\"semi major axis: %1d AU\" % a)\n",
    "plt.text(u-1,v+0.8,\"eccentricity: %1.2f\" % e)\n",
    "plt.title(\"An ellipse!\")\n",
    "plt.xlabel(\"xval\")\n",
    "plt.ylabel(\"yval\");\n",
    "plt.gca().set_aspect('equal')\n",
    "plt.show()\n"
   ]
  },
  {
   "cell_type": "markdown",
   "id": "1249b233-67a2-489f-91c5-5a6fd52d87f3",
   "metadata": {},
   "source": [
    "![fancyellipse](fancy_ellipse.png)"
   ]
  },
  {
   "cell_type": "code",
   "execution_count": null,
   "id": "096fd4e1-de16-451d-aa2a-5ecaa88b9d5c",
   "metadata": {},
   "outputs": [],
   "source": [
    "##.    PROBLEM #2\n",
    "\n",
    "## WRITE CODE HERE TO DRAW THE ORBIT OF A PLANET SHOWING THE SUN AT ONE FOCUS\n",
    "## SHOW THE PLANET APPROACHING PERIHELION (FORMULA DISCUSSED IN CLASS and BELOW)\n",
    "## PERIHELION = a * (1 - e)\n",
    "## APHELION = a * (1 + e)\n",
    "## YOU WILL A NEED A SECOND PAIR linspace() a plt.scatter() statements to do this\n",
    "## IT SHOULD LOOK LIKE THE PICTURE BELOW !\n",
    "\n",
    "a = 3 # semi major axis\n",
    "b = 2 # semi minor axis\n",
    "u = 3 # center x coordinate\n",
    "v = 3 # center y coordinate\n",
    "c = (a**2-b**2)**0.5 # focal distance\n",
    "e = c/a # eccentricity\n",
    "ph = a*(1-e) # perihelion\n",
    "ah = a*(1+e) # aphelion\n",
    "\n",
    "def xval(t):\n",
    "    return a*np.cos(t)\n",
    "def yval(t):\n",
    "    return b*np.sin(t)\n",
    "\n",
    "t = np.linspace(0, 2*np.pi, 100) # dataframe of angles in radians measured from Noon\n",
    "x = u + xval(t) # dataframe of parametrized x values for ellipse\n",
    "y = v + yval(t) # dataframe of parametrized y values for wllipse\n",
    "plt.plot(x, y, color=\"black\")  # plot ellipse\n",
    "plt.scatter(u, v, marker=\"+\", color=\"black\")  # plot center point\n",
    "plt.scatter(u-c, v, marker='o', color=\"orange\") # plot left focus (location of star)\n",
    "plt.text(u-c, v-0.2, \"Star\")\n",
    "#plt.scatter(u+c,v) # plot right focus (there is nothing at this location!)\n",
    "\n",
    "t1 = np.linspace(3*np.pi/4, np.pi, 10) # dataframe of angles in radians for the planet\n",
    "x1 = u + xval(t1) # dataframe of parametrized x values for planet\n",
    "y1 = v + yval(t1) # dataframe of parametrized y values for planet\n",
    "plt.scatter(x1, y1)  # A planet approaching Perihelion\n",
    "plt.text(u-c, v-0.2, \"Star\")\n",
    "plt.text(u+xval(np.pi), v-0.2, \"Planet\")\n",
    "\n",
    "plt.title(\"The elliptical orbit of a planet approaching Perihelion\")\n",
    "plt.text(u-1.2,v+1.5,\"a   = semi major axis: %.1f AU\" % a)\n",
    "plt.text(u-1.2,v+1.25,\"b   = semi minor axis: %.1f AU\" % b)\n",
    "plt.text(u-1.2,v+1,\"c   = semi focal distance: %.1f AU\" % c)\n",
    "plt.text(u-1.2,v+0.75,\"ph = perihelion: %.2f AU\" % (ph))\n",
    "plt.text(u-1.2,v+0.5,\"ah = aphelion: %.2f AU\" % (ah))\n",
    "plt.text(u-1.2,v+0.25,\"e   = eccentricity: %.2f\" % e)\n",
    "\n",
    "plt.gca().set_aspect('equal')\n",
    "plt.xlabel(\"Angle in Radians measured from the 12 o'clock position\")\n",
    "plt.ylabel(\"Distance in Astronomial Units (AU)\");\n",
    "plt.show()"
   ]
  },
  {
   "cell_type": "markdown",
   "id": "b9142068-6573-485b-99b1-0943f20ce78c",
   "metadata": {},
   "source": [
    "![planetary orbit](planetary_orbit.png)"
   ]
  }
 ],
 "metadata": {
  "kernelspec": {
   "display_name": "Python 3 (ipykernel)",
   "language": "python",
   "name": "python3"
  },
  "language_info": {
   "codemirror_mode": {
    "name": "ipython",
    "version": 3
   },
   "file_extension": ".py",
   "mimetype": "text/x-python",
   "name": "python",
   "nbconvert_exporter": "python",
   "pygments_lexer": "ipython3",
   "version": "3.9.13"
  }
 },
 "nbformat": 4,
 "nbformat_minor": 5
}
